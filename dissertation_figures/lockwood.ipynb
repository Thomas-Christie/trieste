{
 "cells": [
  {
   "cell_type": "code",
   "execution_count": 40,
   "metadata": {
    "collapsed": true
   },
   "outputs": [],
   "source": [
    "import matplotlib.pyplot as plt\n",
    "import numpy as np\n",
    "import pickle\n",
    "import json\n",
    "\n",
    "plt.style.use('plot_style.txt')"
   ]
  },
  {
   "cell_type": "code",
   "execution_count": 17,
   "outputs": [],
   "source": [
    "OBJECTIVE = \"OBJECTIVE\"\n",
    "INEQUALITY_CONSTRAINT_ONE = \"INEQUALITY_CONSTRAINT_ONE\"\n",
    "INEQUALITY_CONSTRAINT_TWO = \"INEQUALITY_CONSTRAINT_TWO\""
   ],
   "metadata": {
    "collapsed": false
   }
  },
  {
   "cell_type": "code",
   "execution_count": 19,
   "outputs": [],
   "source": [
    "def process_ts_results(result_dir: str,\n",
    "                       num_runs: int,\n",
    "                       failure_val: float):\n",
    "    all_results = []\n",
    "    for run in range(num_runs):\n",
    "        run_file = result_dir + f\"run_{run}_data.pkl\"\n",
    "        with open(run_file, \"rb\") as fp:\n",
    "            run_data = pickle.load(fp)\n",
    "        inequality_constraint_one_satisfied = run_data[INEQUALITY_CONSTRAINT_ONE].observations.numpy().squeeze() <= 0\n",
    "        inequality_constraint_two_satisfied = run_data[INEQUALITY_CONSTRAINT_TWO].observations.numpy().squeeze() <= 0\n",
    "        satisfied_mask = np.logical_and(inequality_constraint_one_satisfied, inequality_constraint_two_satisfied)\n",
    "        failure_mask = np.logical_not(satisfied_mask)\n",
    "        objective_vals = run_data[OBJECTIVE].observations.numpy().squeeze()\n",
    "        safe_obs_values = objective_vals.copy()\n",
    "        safe_obs_values[failure_mask] = failure_val\n",
    "        all_results.append(np.minimum.accumulate(safe_obs_values))\n",
    "    all_results = np.array(all_results)\n",
    "    all_results_mean = np.mean(all_results, axis=0)\n",
    "    all_results_median = np.median(all_results, axis=0)\n",
    "    all_results_std = np.std(all_results, axis=0)\n",
    "    return all_results, all_results_mean, all_results_median, all_results_std"
   ],
   "metadata": {
    "collapsed": false
   }
  },
  {
   "cell_type": "code",
   "execution_count": 20,
   "outputs": [],
   "source": [
    "def process_original_albo_results(result_dir: str,\n",
    "                                  num_runs: int,\n",
    "                                  failure_val: float):\n",
    "    all_results = []\n",
    "    for run in range(1, num_runs + 1):\n",
    "        run_file = result_dir + f\"run_{run}_results.json\"\n",
    "        with open(run_file, \"rb\") as fp:\n",
    "            all_run_data = json.load(fp)\n",
    "            run_results = all_run_data[\"prog\"]\n",
    "            i = 0\n",
    "            while run_results[i] == \"Inf\":\n",
    "                i += 1\n",
    "            if i > 0:\n",
    "                for j in range(i):\n",
    "                    run_results[j] = failure_val\n",
    "            all_results.append(run_results)\n",
    "    all_results = np.array(all_results)\n",
    "    all_results_mean = np.mean(all_results, axis=0)\n",
    "    all_results_median = np.median(all_results, axis=0)\n",
    "    all_results_std = np.std(all_results, axis=0)\n",
    "    return all_results, all_results_mean, all_results_median, all_results_std"
   ],
   "metadata": {
    "collapsed": false
   }
  },
  {
   "cell_type": "code",
   "execution_count": 74,
   "outputs": [],
   "source": [
    "original_albo_no_slack_results, original_albo_no_slack_results_mean, original_albo_no_slack_results_median, original_albo_no_slack_results_std = process_original_albo_results(\"../results/original_albo/lockwood/no_slack/data/\", 10, 60000)\n",
    "original_albo_slack_results, original_albo_slack_results_mean, original_albo_slack_results_median, original_albo_slack_results_std = process_original_albo_results(\"../results/original_albo/lockwood/slack_optim/data/\", 12, 60000)\n",
    "random_results, random_results_mean, random_results_median, random_results_std = process_ts_results(\"../results/20-04-23/lockwood_random/data/\", 10, 6)\n",
    "ts_results, ts_results_mean, ts_results_median, ts_results_std = process_ts_results(\"../results/21-04-23/lockwood_slack/data/\", 5, 6)"
   ],
   "metadata": {
    "collapsed": false
   }
  },
  {
   "cell_type": "code",
   "execution_count": 75,
   "outputs": [
    {
     "data": {
      "text/plain": "(20000.0, 70000.0)"
     },
     "execution_count": 75,
     "metadata": {},
     "output_type": "execute_result"
    },
    {
     "data": {
      "text/plain": "<Figure size 525x393.75 with 1 Axes>",
      "image/png": "[encoded data removed]"
     },
     "metadata": {},
     "output_type": "display_data"
    }
   ],
   "source": [
    "plt.plot(original_albo_no_slack_results_mean)\n",
    "plt.plot(original_albo_slack_results_mean)\n",
    "plt.plot(random_results_mean * 10000)\n",
    "plt.plot(ts_results_mean * 10000)\n",
    "plt.ylim(20000, 70000)"
   ],
   "metadata": {
    "collapsed": false
   }
  },
  {
   "cell_type": "code",
   "execution_count": 33,
   "outputs": [
    {
     "name": "stdout",
     "output_type": "stream",
     "text": [
      "[4.199853 3.934676 3.792885 3.805823 3.504884 3.119033 4.120344 3.702142\n",
      " 3.798054 4.543324]\n"
     ]
    }
   ],
   "source": [
    "print(random_results[:,-1])"
   ],
   "metadata": {
    "collapsed": false
   }
  },
  {
   "cell_type": "code",
   "execution_count": 6,
   "outputs": [
    {
     "data": {
      "text/plain": "array([[60000.  , 60000.  , 60000.  , ..., 31252.94, 31252.94, 31252.94],\n       [60000.  , 60000.  , 60000.  , ..., 38155.92, 38155.92, 38155.92],\n       [60000.  , 60000.  , 60000.  , ..., 29680.55, 29680.55, 29680.55],\n       ...,\n       [60000.  , 60000.  , 60000.  , ..., 29090.6 , 29090.6 , 29090.6 ],\n       [60000.  , 60000.  , 60000.  , ..., 42582.38, 42582.38, 42582.38],\n       [60000.  , 60000.  , 60000.  , ..., 56837.04, 56837.04, 56837.04]])"
     },
     "execution_count": 6,
     "metadata": {},
     "output_type": "execute_result"
    }
   ],
   "source": [
    "original_albo_slack_results"
   ],
   "metadata": {
    "collapsed": false
   }
  },
  {
   "cell_type": "code",
   "execution_count": 56,
   "outputs": [
    {
     "name": "stdout",
     "output_type": "stream",
     "text": [
      "[24900.34 25137.54 25203.81 25936.34 25382.98 25988.51 24497.17 25248.98\n",
      " 25971.27 25444.11]\n"
     ]
    }
   ],
   "source": [
    "print(original_albo_no_slack_results[:,400])"
   ],
   "metadata": {
    "collapsed": false
   }
  },
  {
   "cell_type": "code",
   "execution_count": 76,
   "outputs": [
    {
     "name": "stdout",
     "output_type": "stream",
     "text": [
      "[2.735733 2.559299 2.366506 2.3235   2.527397]\n"
     ]
    }
   ],
   "source": [
    "print(ts_results[:,-1])"
   ],
   "metadata": {
    "collapsed": false
   }
  },
  {
   "cell_type": "code",
   "execution_count": 67,
   "outputs": [],
   "source": [
    "run = 12\n",
    "with open(f\"../results/14-04-23/lsq_fully_consistent/data/run_{run}_inequality_lambda_progression.pkl\", \"rb\") as fp:\n",
    "    ineq_lambd = pickle.load(fp)"
   ],
   "metadata": {
    "collapsed": false
   }
  },
  {
   "cell_type": "code",
   "execution_count": 68,
   "outputs": [
    {
     "data": {
      "text/plain": "{'INEQUALITY_CONSTRAINT_ONE': [<tf.Tensor: shape=(1,), dtype=float64, numpy=array([0.])>,\n  <tf.Tensor: shape=(1,), dtype=float64, numpy=array([0.])>,\n  <tf.Tensor: shape=(1,), dtype=float64, numpy=array([0.])>,\n  <tf.Tensor: shape=(1,), dtype=float64, numpy=array([0.])>,\n  <tf.Tensor: shape=(1,), dtype=float64, numpy=array([0.])>,\n  <tf.Tensor: shape=(1,), dtype=float64, numpy=array([0.])>,\n  <tf.Tensor: shape=(1,), dtype=float64, numpy=array([3.59996002])>,\n  <tf.Tensor: shape=(1,), dtype=float64, numpy=array([0.])>,\n  <tf.Tensor: shape=(1,), dtype=float64, numpy=array([0.])>,\n  <tf.Tensor: shape=(1,), dtype=float64, numpy=array([2.54610163])>,\n  <tf.Tensor: shape=(1,), dtype=float64, numpy=array([0.86882068])>,\n  <tf.Tensor: shape=(1,), dtype=float64, numpy=array([0.49850965])>,\n  <tf.Tensor: shape=(1,), dtype=float64, numpy=array([0.98658141])>,\n  <tf.Tensor: shape=(1,), dtype=float64, numpy=array([1.15711051])>,\n  <tf.Tensor: shape=(1,), dtype=float64, numpy=array([0.82955291])>,\n  <tf.Tensor: shape=(1,), dtype=float64, numpy=array([0.50199531])>,\n  <tf.Tensor: shape=(1,), dtype=float64, numpy=array([0.99408162])>,\n  <tf.Tensor: shape=(1,), dtype=float64, numpy=array([0.33896641])>,\n  <tf.Tensor: shape=(1,), dtype=float64, numpy=array([0.67490118])>,\n  <tf.Tensor: shape=(1,), dtype=float64, numpy=array([1.34677072])>,\n  <tf.Tensor: shape=(1,), dtype=float64, numpy=array([0.])>,\n  <tf.Tensor: shape=(1,), dtype=float64, numpy=array([0.77020271])>,\n  <tf.Tensor: shape=(1,), dtype=float64, numpy=array([2.31060813])>,\n  <tf.Tensor: shape=(1,), dtype=float64, numpy=array([2.21594598])>,\n  <tf.Tensor: shape=(1,), dtype=float64, numpy=array([2.12128384])>,\n  <tf.Tensor: shape=(1,), dtype=float64, numpy=array([2.02662169])>,\n  <tf.Tensor: shape=(1,), dtype=float64, numpy=array([1.93195955])>,\n  <tf.Tensor: shape=(1,), dtype=float64, numpy=array([0.19011545])>,\n  <tf.Tensor: shape=(1,), dtype=float64, numpy=array([-2.77555756e-17])>,\n  <tf.Tensor: shape=(1,), dtype=float64, numpy=array([-2.77555756e-17])>,\n  <tf.Tensor: shape=(1,), dtype=float64, numpy=array([1.45212751])>,\n  <tf.Tensor: shape=(1,), dtype=float64, numpy=array([0.])>,\n  <tf.Tensor: shape=(1,), dtype=float64, numpy=array([2.90425503])>,\n  <tf.Tensor: shape=(1,), dtype=float64, numpy=array([0.])>,\n  <tf.Tensor: shape=(1,), dtype=float64, numpy=array([0.])>,\n  <tf.Tensor: shape=(1,), dtype=float64, numpy=array([0.])>,\n  <tf.Tensor: shape=(1,), dtype=float64, numpy=array([0.])>,\n  <tf.Tensor: shape=(1,), dtype=float64, numpy=array([0.])>,\n  <tf.Tensor: shape=(1,), dtype=float64, numpy=array([0.])>,\n  <tf.Tensor: shape=(1,), dtype=float64, numpy=array([0.])>,\n  <tf.Tensor: shape=(1,), dtype=float64, numpy=array([0.])>,\n  <tf.Tensor: shape=(1,), dtype=float64, numpy=array([0.])>,\n  <tf.Tensor: shape=(1,), dtype=float64, numpy=array([0.])>,\n  <tf.Tensor: shape=(1,), dtype=float64, numpy=array([0.])>,\n  <tf.Tensor: shape=(1,), dtype=float64, numpy=array([0.])>],\n 'INEQUALITY_CONSTRAINT_TWO': [<tf.Tensor: shape=(1,), dtype=float64, numpy=array([0.])>,\n  <tf.Tensor: shape=(1,), dtype=float64, numpy=array([0.])>,\n  <tf.Tensor: shape=(1,), dtype=float64, numpy=array([0.])>,\n  <tf.Tensor: shape=(1,), dtype=float64, numpy=array([0.])>,\n  <tf.Tensor: shape=(1,), dtype=float64, numpy=array([0.])>,\n  <tf.Tensor: shape=(1,), dtype=float64, numpy=array([0.])>,\n  <tf.Tensor: shape=(1,), dtype=float64, numpy=array([0.])>,\n  <tf.Tensor: shape=(1,), dtype=float64, numpy=array([0.])>,\n  <tf.Tensor: shape=(1,), dtype=float64, numpy=array([0.])>,\n  <tf.Tensor: shape=(1,), dtype=float64, numpy=array([0.])>,\n  <tf.Tensor: shape=(1,), dtype=float64, numpy=array([0.])>,\n  <tf.Tensor: shape=(1,), dtype=float64, numpy=array([0.])>,\n  <tf.Tensor: shape=(1,), dtype=float64, numpy=array([0.])>,\n  <tf.Tensor: shape=(1,), dtype=float64, numpy=array([0.])>,\n  <tf.Tensor: shape=(1,), dtype=float64, numpy=array([0.])>,\n  <tf.Tensor: shape=(1,), dtype=float64, numpy=array([0.])>,\n  <tf.Tensor: shape=(1,), dtype=float64, numpy=array([0.])>,\n  <tf.Tensor: shape=(1,), dtype=float64, numpy=array([0.])>,\n  <tf.Tensor: shape=(1,), dtype=float64, numpy=array([0.])>,\n  <tf.Tensor: shape=(1,), dtype=float64, numpy=array([0.])>,\n  <tf.Tensor: shape=(1,), dtype=float64, numpy=array([0.])>,\n  <tf.Tensor: shape=(1,), dtype=float64, numpy=array([0.])>,\n  <tf.Tensor: shape=(1,), dtype=float64, numpy=array([0.])>,\n  <tf.Tensor: shape=(1,), dtype=float64, numpy=array([0.])>,\n  <tf.Tensor: shape=(1,), dtype=float64, numpy=array([0.])>,\n  <tf.Tensor: shape=(1,), dtype=float64, numpy=array([0.])>,\n  <tf.Tensor: shape=(1,), dtype=float64, numpy=array([0.])>,\n  <tf.Tensor: shape=(1,), dtype=float64, numpy=array([0.])>,\n  <tf.Tensor: shape=(1,), dtype=float64, numpy=array([0.])>,\n  <tf.Tensor: shape=(1,), dtype=float64, numpy=array([0.])>,\n  <tf.Tensor: shape=(1,), dtype=float64, numpy=array([0.])>,\n  <tf.Tensor: shape=(1,), dtype=float64, numpy=array([0.])>,\n  <tf.Tensor: shape=(1,), dtype=float64, numpy=array([0.])>,\n  <tf.Tensor: shape=(1,), dtype=float64, numpy=array([0.])>,\n  <tf.Tensor: shape=(1,), dtype=float64, numpy=array([0.])>,\n  <tf.Tensor: shape=(1,), dtype=float64, numpy=array([0.])>,\n  <tf.Tensor: shape=(1,), dtype=float64, numpy=array([0.])>,\n  <tf.Tensor: shape=(1,), dtype=float64, numpy=array([0.])>,\n  <tf.Tensor: shape=(1,), dtype=float64, numpy=array([0.])>,\n  <tf.Tensor: shape=(1,), dtype=float64, numpy=array([0.])>,\n  <tf.Tensor: shape=(1,), dtype=float64, numpy=array([0.])>,\n  <tf.Tensor: shape=(1,), dtype=float64, numpy=array([0.])>,\n  <tf.Tensor: shape=(1,), dtype=float64, numpy=array([0.])>,\n  <tf.Tensor: shape=(1,), dtype=float64, numpy=array([0.])>,\n  <tf.Tensor: shape=(1,), dtype=float64, numpy=array([0.])>]}"
     },
     "execution_count": 68,
     "metadata": {},
     "output_type": "execute_result"
    }
   ],
   "source": [
    "ineq_lambd"
   ],
   "metadata": {
    "collapsed": false
   }
  },
  {
   "cell_type": "code",
   "execution_count": 8,
   "outputs": [
    {
     "name": "stderr",
     "output_type": "stream",
     "text": [
      "2023-04-20 17:05:22.398238: I tensorflow/core/platform/cpu_feature_guard.cc:193] This TensorFlow binary is optimized with oneAPI Deep Neural Network Library (oneDNN) to use the following CPU instructions in performance-critical operations:  AVX2 FMA\n",
      "To enable them in other operations, rebuild TensorFlow with the appropriate compiler flags.\n"
     ]
    }
   ],
   "source": [
    "import tensorflow as tf"
   ],
   "metadata": {
    "collapsed": false
   }
  },
  {
   "cell_type": "code",
   "execution_count": 14,
   "outputs": [],
   "source": [
    "x = tf.Variable(0.0)\n",
    "with tf.GradientTape(persistent=True) as tape:\n",
    "    tape.watch(x)\n",
    "    y = tf.nn.relu(x)"
   ],
   "metadata": {
    "collapsed": false
   }
  },
  {
   "cell_type": "code",
   "execution_count": 15,
   "outputs": [
    {
     "data": {
      "text/plain": "<tf.Tensor: shape=(), dtype=float32, numpy=0.0>"
     },
     "execution_count": 15,
     "metadata": {},
     "output_type": "execute_result"
    }
   ],
   "source": [
    "tape.gradient(y, x)"
   ],
   "metadata": {
    "collapsed": false
   }
  },
  {
   "cell_type": "code",
   "execution_count": null,
   "outputs": [],
   "source": [],
   "metadata": {
    "collapsed": false
   }
  }
 ],
 "metadata": {
  "kernelspec": {
   "display_name": "Python 3",
   "language": "python",
   "name": "python3"
  },
  "language_info": {
   "codemirror_mode": {
    "name": "ipython",
    "version": 2
   },
   "file_extension": ".py",
   "mimetype": "text/x-python",
   "name": "python",
   "nbconvert_exporter": "python",
   "pygments_lexer": "ipython2",
   "version": "2.7.6"
  }
 },
 "nbformat": 4,
 "nbformat_minor": 0
}
